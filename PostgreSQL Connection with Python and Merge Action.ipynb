{
 "cells": [
  {
   "cell_type": "code",
   "execution_count": 1,
   "id": "05b3b05b",
   "metadata": {},
   "outputs": [
    {
     "name": "stdout",
     "output_type": "stream",
     "text": [
      "Collecting psycopg2\n",
      "  Downloading psycopg2-2.9.2-cp38-cp38-win_amd64.whl (1.1 MB)\n",
      "Installing collected packages: psycopg2\n",
      "Successfully installed psycopg2-2.9.2\n"
     ]
    }
   ],
   "source": [
    "!pip install psycopg2"
   ]
  },
  {
   "cell_type": "code",
   "execution_count": 3,
   "id": "26ed7f67",
   "metadata": {},
   "outputs": [],
   "source": [
    "### Creating a table with PostgreSQL\n",
    "import psycopg2"
   ]
  },
  {
   "cell_type": "markdown",
   "id": "044e2ef3",
   "metadata": {},
   "source": [
    "### Create a connection to the database"
   ]
  },
  {
   "cell_type": "code",
   "execution_count": 6,
   "id": "bb4f9829",
   "metadata": {},
   "outputs": [],
   "source": [
    "try:\n",
    "    conn = psycopg2.connect(\"host=127.0.0.1 dbname=postgres user=postgres password=1223\")\n",
    "except psycopg2.error as e:\n",
    "    print(\"Error:Could not make connection to the database\")\n",
    "    print(e)"
   ]
  },
  {
   "cell_type": "markdown",
   "id": "0d13a10e",
   "metadata": {},
   "source": [
    "### Use connection to get the cursor"
   ]
  },
  {
   "cell_type": "code",
   "execution_count": 7,
   "id": "31badfce",
   "metadata": {},
   "outputs": [],
   "source": [
    "try:\n",
    "    cur = conn.cursor()\n",
    "except psycopg2.error as e:\n",
    "    print(\"Cursor defined fail\")\n",
    "    print(e)"
   ]
  },
  {
   "cell_type": "markdown",
   "id": "90bd1410",
   "metadata": {},
   "source": [
    "### We are defining here autocommit so that we don't need each time conn.commit()"
   ]
  },
  {
   "cell_type": "code",
   "execution_count": 8,
   "id": "06aa4007",
   "metadata": {},
   "outputs": [],
   "source": [
    "conn.set_session(autocommit=True)"
   ]
  },
  {
   "cell_type": "markdown",
   "id": "33046bf7",
   "metadata": {},
   "source": [
    "### Let's create a database"
   ]
  },
  {
   "cell_type": "code",
   "execution_count": 9,
   "id": "91d6b580",
   "metadata": {},
   "outputs": [],
   "source": [
    "try:\n",
    "    cur.execute(\"Create database first_db\")\n",
    "except psycopg2.Error as e:\n",
    "    print(\"fail to create database name first_db\")"
   ]
  },
  {
   "cell_type": "code",
   "execution_count": 10,
   "id": "3631edf4",
   "metadata": {},
   "outputs": [],
   "source": [
    "## close the connection\n",
    "conn.close()"
   ]
  },
  {
   "cell_type": "markdown",
   "id": "994c76de",
   "metadata": {},
   "source": [
    "### Let's connect the database first_db"
   ]
  },
  {
   "cell_type": "code",
   "execution_count": 13,
   "id": "16442f81",
   "metadata": {},
   "outputs": [],
   "source": [
    "try:\n",
    "    conn = psycopg2.connect(\"host=127.0.0.1 dbname=first_db user=postgres password=1223\")\n",
    "except psycopg2.error as e:\n",
    "    print(\"Error:Could not make connection to the database\")\n",
    "    print(e)\n",
    "\n",
    "try:\n",
    "        cur = conn.cursor()\n",
    "except psycopg2.error as e:\n",
    "    print(\"Cursor defined fail\")\n",
    "    print(e)\n",
    "conn.set_session(autocommit=True)"
   ]
  },
  {
   "cell_type": "markdown",
   "id": "a30efe27",
   "metadata": {},
   "source": [
    "### Create a table name student"
   ]
  },
  {
   "cell_type": "code",
   "execution_count": 14,
   "id": "2ef619dc",
   "metadata": {},
   "outputs": [],
   "source": [
    "try:\n",
    "    cur.execute(\"create table if not exists student(id int, name varchar(255),\\\n",
    "    age int, gender varchar(20), subject varchar(55), marks int);\")\n",
    "except psycopg2.Error as e:\n",
    "    print(\"Error in table creation\")\n",
    "    print(e)"
   ]
  },
  {
   "cell_type": "markdown",
   "id": "d09ccad0",
   "metadata": {},
   "source": [
    "### Insert data into database"
   ]
  },
  {
   "cell_type": "code",
   "execution_count": 26,
   "id": "a3ec1848",
   "metadata": {},
   "outputs": [],
   "source": [
    "cur.execute(\"insert into student(id, name, age, gender, subject, marks) \\\n",
    "    values (%s, %s, %s, %s, %s, %s)\", \\\n",
    "    (1, \"Sudip\", 20, \"M\", \"Math\", 44))"
   ]
  },
  {
   "cell_type": "code",
   "execution_count": 28,
   "id": "b751f802",
   "metadata": {},
   "outputs": [],
   "source": [
    "cur.execute(\"insert into student(id, name, age, gender, subject, marks) \\\n",
    "    values (%s, %s, %s, %s, %s, %s)\", \\\n",
    "    (2, \"Sp\", 30, \"M\", \"English\", 60))"
   ]
  },
  {
   "cell_type": "code",
   "execution_count": 29,
   "id": "9195fea1",
   "metadata": {},
   "outputs": [],
   "source": [
    "cur.execute(\"insert into student(id, name, age, gender, subject, marks) \\\n",
    "    values (%s, %s, %s, %s, %s, %s)\", \\\n",
    "    (3, \"Susan\", 70, \"F\", \"Bio\", 70))"
   ]
  },
  {
   "cell_type": "markdown",
   "id": "f2e05511",
   "metadata": {},
   "source": [
    "### Data validation\n"
   ]
  },
  {
   "cell_type": "code",
   "execution_count": 30,
   "id": "920b0e50",
   "metadata": {},
   "outputs": [
    {
     "name": "stdout",
     "output_type": "stream",
     "text": [
      "(1, 'Sudip', 20, 'M', 'Math', 44)\n"
     ]
    }
   ],
   "source": [
    "cur.execute(\"SELECT * FROM student\")\n",
    "row = cur.fetchone()\n",
    "print(row)"
   ]
  },
  {
   "cell_type": "markdown",
   "id": "b2115168",
   "metadata": {},
   "source": [
    "### Finally we need to cancel the connection and cursor\n"
   ]
  },
  {
   "cell_type": "code",
   "execution_count": 33,
   "id": "e8a5a6ef",
   "metadata": {},
   "outputs": [],
   "source": [
    "cur.close()\n",
    "conn.close()"
   ]
  }
 ],
 "metadata": {
  "kernelspec": {
   "display_name": "Python 3",
   "language": "python",
   "name": "python3"
  },
  "language_info": {
   "codemirror_mode": {
    "name": "ipython",
    "version": 3
   },
   "file_extension": ".py",
   "mimetype": "text/x-python",
   "name": "python",
   "nbconvert_exporter": "python",
   "pygments_lexer": "ipython3",
   "version": "3.8.8"
  }
 },
 "nbformat": 4,
 "nbformat_minor": 5
}
